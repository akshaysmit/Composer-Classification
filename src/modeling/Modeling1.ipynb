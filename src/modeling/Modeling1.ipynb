{
 "cells": [
  {
   "cell_type": "code",
   "execution_count": 21,
   "metadata": {
    "collapsed": false
   },
   "outputs": [
    {
     "name": "stderr",
     "output_type": "stream",
     "text": [
      "//anaconda/lib/python3.5/site-packages/sklearn/lda.py:6: DeprecationWarning: lda.LDA has been moved to discriminant_analysis.LinearDiscriminantAnalysis in 0.17 and will be removed in 0.19\n",
      "  \"in 0.17 and will be removed in 0.19\", DeprecationWarning)\n"
     ]
    }
   ],
   "source": [
    "import pandas as pd\n",
    "import numpy as np\n",
    "from sklearn.linear_model import LogisticRegression\n",
    "from sklearn.metrics import confusion_matrix\n",
    "from sklearn.svm import SVC\n",
    "from sklearn.qda import QDA\n",
    "from sklearn.lda import LDA"
   ]
  },
  {
   "cell_type": "code",
   "execution_count": 13,
   "metadata": {
    "collapsed": true
   },
   "outputs": [],
   "source": [
    "train_file = \"../data_set_generator/train.csv\"\n",
    "dev_file = \"../data_set_generator/dev.csv\"\n",
    "test_file = \"../data_set_generator/test.csv\""
   ]
  },
  {
   "cell_type": "markdown",
   "metadata": {},
   "source": [
    "# Section 1: Data with all composers"
   ]
  },
  {
   "cell_type": "code",
   "execution_count": 14,
   "metadata": {
    "collapsed": false
   },
   "outputs": [],
   "source": [
    "train_data = pd.read_csv(train_file)\n",
    "dev_data = pd.read_csv(dev_file)\n",
    "labels = [\"bach\", \"beethoven\", \"brahms\", \"chopin\", \"debussy\", \"handel\", \"haydn\", \"liszt\", \"mozart\", \"vivaldi\"]"
   ]
  },
  {
   "cell_type": "code",
   "execution_count": 15,
   "metadata": {
    "collapsed": false
   },
   "outputs": [],
   "source": [
    "train_y = train_data[['y']]\n",
    "train_X = train_data.drop(['y', 'Note_Density_per_Quarter_Note_Variability'], axis=1)\n",
    "dev_y = dev_data[['y']]\n",
    "dev_X = dev_data.drop(['y', 'Note_Density_per_Quarter_Note_Variability'], axis=1)"
   ]
  },
  {
   "cell_type": "markdown",
   "metadata": {},
   "source": [
    "# Softmax Regression"
   ]
  },
  {
   "cell_type": "code",
   "execution_count": 8,
   "metadata": {
    "collapsed": false
   },
   "outputs": [
    {
     "name": "stderr",
     "output_type": "stream",
     "text": [
      "//anaconda/lib/python3.5/site-packages/sklearn/utils/validation.py:526: DataConversionWarning: A column-vector y was passed when a 1d array was expected. Please change the shape of y to (n_samples, ), for example using ravel().\n",
      "  y = column_or_1d(y, warn=True)\n"
     ]
    }
   ],
   "source": [
    "# Modeling\n",
    "clf = LogisticRegression(multi_class='multinomial', solver='lbfgs', penalty='l2').fit(train_X, train_y)"
   ]
  },
  {
   "cell_type": "code",
   "execution_count": 9,
   "metadata": {
    "collapsed": false
   },
   "outputs": [
    {
     "name": "stdout",
     "output_type": "stream",
     "text": [
      "0.6650069156293222\n",
      "[[827  20   0   2   0   3   0   0   0   0]\n",
      " [ 58 326  18  26   0  25   0   3   0   0]\n",
      " [  1  58  18  45   1  40   7   0   0   0]\n",
      " [  0  12  16 139   2  38   2   1   0   1]\n",
      " [  0   1   5  41   9  50  15   7   1   0]\n",
      " [  0   1   5   4   1 256  49   1  71  29]\n",
      " [  0   1   7  11   0  63  87   4  88   4]\n",
      " [  0   0   4  14   0  15   9  77  64   4]\n",
      " [  0   0   5   0   0  17  12  24 609  66]\n",
      " [  0   0   0   0   0   0   0   0 139  56]]\n"
     ]
    }
   ],
   "source": [
    "# Training data\n",
    "y_pred = clf.predict(train_X)\n",
    "confusion_m = confusion_matrix(train_y, y_pred)\n",
    "training_accuracy = clf.score(train_X, train_y)\n",
    "print(training_accuracy)\n",
    "print(confusion_m)"
   ]
  },
  {
   "cell_type": "code",
   "execution_count": 11,
   "metadata": {
    "collapsed": false
   },
   "outputs": [
    {
     "name": "stdout",
     "output_type": "stream",
     "text": [
      "0.6464730290456432\n",
      "[[283   6   0   0   0   1   0   1   0   0]\n",
      " [ 24 108   9   8   1  11   0   1   0   0]\n",
      " [  0  20   8  17   1  12   2   1   0   0]\n",
      " [  0   8   2  38   0   9   1   0   0   0]\n",
      " [  0   0   1  17   0  16   6   2   0   0]\n",
      " [  0   0   3   2   1  51  17   3  23  11]\n",
      " [  0   0   0   2   0  16  20   0  35   3]\n",
      " [  0   0   2   3   2   5   5  24  29   0]\n",
      " [  0   0   2   0   0   7   3   3 228  21]\n",
      " [  0   0   0   0   0   0   0   0  51  19]]\n"
     ]
    }
   ],
   "source": [
    "# Dev data\n",
    "y_pred = clf.predict(dev_X)\n",
    "confusion_m = confusion_matrix(dev_y, y_pred)\n",
    "dev_accuracy = clf.score(dev_X, dev_y)\n",
    "print(dev_accuracy)\n",
    "print(confusion_m)"
   ]
  },
  {
   "cell_type": "markdown",
   "metadata": {},
   "source": [
    "# SVM, C =1"
   ]
  },
  {
   "cell_type": "code",
   "execution_count": 141,
   "metadata": {
    "collapsed": false
   },
   "outputs": [
    {
     "name": "stderr",
     "output_type": "stream",
     "text": [
      "//anaconda/lib/python3.5/site-packages/sklearn/utils/validation.py:526: DataConversionWarning: A column-vector y was passed when a 1d array was expected. Please change the shape of y to (n_samples, ), for example using ravel().\n",
      "  y = column_or_1d(y, warn=True)\n"
     ]
    },
    {
     "data": {
      "text/plain": [
       "SVC(C=1, cache_size=200, class_weight=None, coef0=0.0,\n",
       "  decision_function_shape=None, degree=3, gamma='auto', kernel='rbf',\n",
       "  max_iter=-1, probability=False, random_state=None, shrinking=True,\n",
       "  tol=0.001, verbose=False)"
      ]
     },
     "execution_count": 141,
     "metadata": {},
     "output_type": "execute_result"
    }
   ],
   "source": [
    "clf = SVC(gamma = 'auto', kernel='rbf', C=1)\n",
    "clf.fit(train_X, train_y)"
   ]
  },
  {
   "cell_type": "code",
   "execution_count": 142,
   "metadata": {
    "collapsed": false
   },
   "outputs": [
    {
     "name": "stdout",
     "output_type": "stream",
     "text": [
      "1.0\n",
      "[[852   0   0   0   0   0   0   0   0   0]\n",
      " [  0 456   0   0   0   0   0   0   0   0]\n",
      " [  0   0 170   0   0   0   0   0   0   0]\n",
      " [  0   0   0 211   0   0   0   0   0   0]\n",
      " [  0   0   0   0 129   0   0   0   0   0]\n",
      " [  0   0   0   0   0 417   0   0   0   0]\n",
      " [  0   0   0   0   0   0 265   0   0   0]\n",
      " [  0   0   0   0   0   0   0 187   0   0]\n",
      " [  0   0   0   0   0   0   0   0 733   0]\n",
      " [  0   0   0   0   0   0   0   0   0 195]]\n"
     ]
    }
   ],
   "source": [
    "# Training data\n",
    "y_pred = clf.predict(train_X)\n",
    "confusion_m = confusion_matrix(train_y, y_pred)\n",
    "training_accuracy = clf.score(train_X, train_y)\n",
    "print(training_accuracy)\n",
    "print(confusion_m)"
   ]
  },
  {
   "cell_type": "code",
   "execution_count": 143,
   "metadata": {
    "collapsed": false
   },
   "outputs": [
    {
     "name": "stdout",
     "output_type": "stream",
     "text": [
      "0.24564315352697094\n",
      "[[291   0   0   0   0   0   0   0   0   0]\n",
      " [162   0   0   0   0   0   0   0   0   0]\n",
      " [ 61   0   0   0   0   0   0   0   0   0]\n",
      " [ 58   0   0   0   0   0   0   0   0   0]\n",
      " [ 42   0   0   0   0   0   0   0   0   0]\n",
      " [111   0   0   0   0   0   0   0   0   0]\n",
      " [ 75   0   0   0   0   0   1   0   0   0]\n",
      " [ 70   0   0   0   0   0   0   0   0   0]\n",
      " [260   0   0   0   0   0   0   0   4   0]\n",
      " [ 70   0   0   0   0   0   0   0   0   0]]\n"
     ]
    }
   ],
   "source": [
    "# Dev data\n",
    "y_pred = clf.predict(dev_X)\n",
    "confusion_m = confusion_matrix(dev_y, y_pred)\n",
    "dev_accuracy = clf.score(dev_X, dev_y)\n",
    "print(dev_accuracy)\n",
    "print(confusion_m)"
   ]
  },
  {
   "cell_type": "markdown",
   "metadata": {},
   "source": [
    "# SVM, C = .45"
   ]
  },
  {
   "cell_type": "code",
   "execution_count": 144,
   "metadata": {
    "collapsed": false
   },
   "outputs": [
    {
     "name": "stderr",
     "output_type": "stream",
     "text": [
      "//anaconda/lib/python3.5/site-packages/sklearn/utils/validation.py:526: DataConversionWarning: A column-vector y was passed when a 1d array was expected. Please change the shape of y to (n_samples, ), for example using ravel().\n",
      "  y = column_or_1d(y, warn=True)\n"
     ]
    },
    {
     "data": {
      "text/plain": [
       "SVC(C=0.45, cache_size=200, class_weight=None, coef0=0.0,\n",
       "  decision_function_shape=None, degree=3, gamma='auto', kernel='rbf',\n",
       "  max_iter=-1, probability=False, random_state=None, shrinking=True,\n",
       "  tol=0.001, verbose=False)"
      ]
     },
     "execution_count": 144,
     "metadata": {},
     "output_type": "execute_result"
    }
   ],
   "source": [
    "clf = SVC(gamma = 'auto', kernel='rbf', C=.45)\n",
    "clf.fit(train_X, train_y)"
   ]
  },
  {
   "cell_type": "code",
   "execution_count": 145,
   "metadata": {
    "collapsed": false
   },
   "outputs": [
    {
     "name": "stdout",
     "output_type": "stream",
     "text": [
      "0.23623789764868602\n",
      "[[852   0   0   0   0   0   0   0   0   0]\n",
      " [454   2   0   0   0   0   0   0   0   0]\n",
      " [170   0   0   0   0   0   0   0   0   0]\n",
      " [211   0   0   0   0   0   0   0   0   0]\n",
      " [129   0   0   0   0   0   0   0   0   0]\n",
      " [417   0   0   0   0   0   0   0   0   0]\n",
      " [265   0   0   0   0   0   0   0   0   0]\n",
      " [187   0   0   0   0   0   0   0   0   0]\n",
      " [733   0   0   0   0   0   0   0   0   0]\n",
      " [195   0   0   0   0   0   0   0   0   0]]\n"
     ]
    }
   ],
   "source": [
    "# Training data\n",
    "y_pred = clf.predict(train_X)\n",
    "confusion_m = confusion_matrix(train_y, y_pred)\n",
    "training_accuracy = clf.score(train_X, train_y)\n",
    "print(training_accuracy)\n",
    "print(confusion_m)"
   ]
  },
  {
   "cell_type": "code",
   "execution_count": 146,
   "metadata": {
    "collapsed": false
   },
   "outputs": [
    {
     "name": "stdout",
     "output_type": "stream",
     "text": [
      "0.24149377593360996\n",
      "[[291   0   0   0   0   0   0   0   0   0]\n",
      " [162   0   0   0   0   0   0   0   0   0]\n",
      " [ 61   0   0   0   0   0   0   0   0   0]\n",
      " [ 58   0   0   0   0   0   0   0   0   0]\n",
      " [ 42   0   0   0   0   0   0   0   0   0]\n",
      " [111   0   0   0   0   0   0   0   0   0]\n",
      " [ 76   0   0   0   0   0   0   0   0   0]\n",
      " [ 70   0   0   0   0   0   0   0   0   0]\n",
      " [264   0   0   0   0   0   0   0   0   0]\n",
      " [ 70   0   0   0   0   0   0   0   0   0]]\n"
     ]
    }
   ],
   "source": [
    "# Dev data\n",
    "y_pred = clf.predict(dev_X)\n",
    "confusion_m = confusion_matrix(dev_y, y_pred)\n",
    "dev_accuracy = clf.score(dev_X, dev_y)\n",
    "print(dev_accuracy)\n",
    "print(confusion_m)"
   ]
  },
  {
   "cell_type": "markdown",
   "metadata": {},
   "source": [
    "# SVM, Kernel = Linear"
   ]
  },
  {
   "cell_type": "code",
   "execution_count": 147,
   "metadata": {
    "collapsed": false
   },
   "outputs": [
    {
     "name": "stderr",
     "output_type": "stream",
     "text": [
      "//anaconda/lib/python3.5/site-packages/sklearn/utils/validation.py:526: DataConversionWarning: A column-vector y was passed when a 1d array was expected. Please change the shape of y to (n_samples, ), for example using ravel().\n",
      "  y = column_or_1d(y, warn=True)\n"
     ]
    },
    {
     "data": {
      "text/plain": [
       "SVC(C=1, cache_size=200, class_weight=None, coef0=0.0,\n",
       "  decision_function_shape=None, degree=3, gamma='auto', kernel='linear',\n",
       "  max_iter=-1, probability=False, random_state=None, shrinking=True,\n",
       "  tol=0.001, verbose=False)"
      ]
     },
     "execution_count": 147,
     "metadata": {},
     "output_type": "execute_result"
    }
   ],
   "source": [
    "clf = SVC(gamma = 'auto', kernel='linear', C=1)\n",
    "clf.fit(train_X, train_y)"
   ]
  },
  {
   "cell_type": "code",
   "execution_count": 148,
   "metadata": {
    "collapsed": false
   },
   "outputs": [
    {
     "name": "stdout",
     "output_type": "stream",
     "text": [
      "1.0\n",
      "[[852   0   0   0   0   0   0   0   0   0]\n",
      " [  0 456   0   0   0   0   0   0   0   0]\n",
      " [  0   0 170   0   0   0   0   0   0   0]\n",
      " [  0   0   0 211   0   0   0   0   0   0]\n",
      " [  0   0   0   0 129   0   0   0   0   0]\n",
      " [  0   0   0   0   0 417   0   0   0   0]\n",
      " [  0   0   0   0   0   0 265   0   0   0]\n",
      " [  0   0   0   0   0   0   0 187   0   0]\n",
      " [  0   0   0   0   0   0   0   0 733   0]\n",
      " [  0   0   0   0   0   0   0   0   0 195]]\n"
     ]
    }
   ],
   "source": [
    "# Training data\n",
    "y_pred = clf.predict(train_X)\n",
    "confusion_m = confusion_matrix(train_y, y_pred)\n",
    "training_accuracy = clf.score(train_X, train_y)\n",
    "print(training_accuracy)\n",
    "print(confusion_m)"
   ]
  },
  {
   "cell_type": "code",
   "execution_count": 149,
   "metadata": {
    "collapsed": false
   },
   "outputs": [
    {
     "name": "stdout",
     "output_type": "stream",
     "text": [
      "0.9900414937759336\n",
      "[[291   0   0   0   0   0   0   0   0   0]\n",
      " [  0 162   0   0   0   0   0   0   0   0]\n",
      " [  0   1  57   3   0   0   0   0   0   0]\n",
      " [  0   0   2  53   3   0   0   0   0   0]\n",
      " [  0   0   0   0  42   0   0   0   0   0]\n",
      " [  0   0   0   0   0 110   1   0   0   0]\n",
      " [  0   0   0   0   0   0  76   0   0   0]\n",
      " [  0   0   0   0   0   0   0  70   0   0]\n",
      " [  0   0   0   0   0   0   0   1 262   1]\n",
      " [  0   0   0   0   0   0   0   0   0  70]]\n"
     ]
    }
   ],
   "source": [
    "# Dev data\n",
    "y_pred = clf.predict(dev_X)\n",
    "confusion_m = confusion_matrix(dev_y, y_pred)\n",
    "dev_accuracy = clf.score(dev_X, dev_y)\n",
    "print(dev_accuracy)\n",
    "print(confusion_m)"
   ]
  },
  {
   "cell_type": "markdown",
   "metadata": {},
   "source": [
    "# LDA"
   ]
  },
  {
   "cell_type": "code",
   "execution_count": 22,
   "metadata": {
    "collapsed": false
   },
   "outputs": [
    {
     "name": "stderr",
     "output_type": "stream",
     "text": [
      "//anaconda/lib/python3.5/site-packages/sklearn/utils/validation.py:526: DataConversionWarning: A column-vector y was passed when a 1d array was expected. Please change the shape of y to (n_samples, ), for example using ravel().\n",
      "  y = column_or_1d(y, warn=True)\n",
      "//anaconda/lib/python3.5/site-packages/sklearn/discriminant_analysis.py:387: UserWarning: Variables are collinear.\n",
      "  warnings.warn(\"Variables are collinear.\")\n"
     ]
    },
    {
     "data": {
      "text/plain": [
       "LDA(n_components=None, priors=None, shrinkage=None, solver='svd',\n",
       "  store_covariance=False, tol=0.0001)"
      ]
     },
     "execution_count": 22,
     "metadata": {},
     "output_type": "execute_result"
    }
   ],
   "source": [
    "clf = LDA()\n",
    "clf.fit(train_X, train_y)"
   ]
  },
  {
   "cell_type": "code",
   "execution_count": 23,
   "metadata": {
    "collapsed": false
   },
   "outputs": [
    {
     "name": "stdout",
     "output_type": "stream",
     "text": [
      "0.9964038727524205\n",
      "[[851   1   0   0   0   0   0   0   0   0]\n",
      " [  0 456   0   0   0   0   0   0   0   0]\n",
      " [  0   4 164   1   0   1   0   0   0   0]\n",
      " [  0   0   0 211   0   0   0   0   0   0]\n",
      " [  0   0   0   0 129   0   0   0   0   0]\n",
      " [  0   0   0   0   0 416   1   0   0   0]\n",
      " [  0   0   0   0   0   0 265   0   0   0]\n",
      " [  0   0   0   0   0   0   1 184   2   0]\n",
      " [  0   0   0   0   0   0   0   0 733   0]\n",
      " [  0   0   0   0   0   0   0   0   2 193]]\n"
     ]
    }
   ],
   "source": [
    "# Training data\n",
    "y_pred = clf.predict(train_X)\n",
    "confusion_m = confusion_matrix(train_y, y_pred)\n",
    "training_accuracy = clf.score(train_X, train_y)\n",
    "print(training_accuracy)\n",
    "print(confusion_m)"
   ]
  },
  {
   "cell_type": "code",
   "execution_count": 24,
   "metadata": {
    "collapsed": false
   },
   "outputs": [
    {
     "name": "stdout",
     "output_type": "stream",
     "text": [
      "0.9004149377593361\n",
      "[[270   7   7   1   3   0   1   0   2   0]\n",
      " [  3 150   6   2   1   0   0   0   0   0]\n",
      " [  0  14  40   5   2   0   0   0   0   0]\n",
      " [  0   3   9  42   0   2   0   2   0   0]\n",
      " [  0   0   4   0  35   2   1   0   0   0]\n",
      " [  0   0   4   0   0 102   2   0   1   2]\n",
      " [  0   0   0   0   1   0  74   0   1   0]\n",
      " [  0   0   2   1   4   2   1  57   3   0]\n",
      " [  0   1   5   0   0   0   4   3 250   1]\n",
      " [  0   0   0   0   0   0   1   1   3  65]]\n"
     ]
    }
   ],
   "source": [
    "# Dev data\n",
    "y_pred = clf.predict(dev_X)\n",
    "confusion_m = confusion_matrix(dev_y, y_pred)\n",
    "dev_accuracy = clf.score(dev_X, dev_y)\n",
    "print(dev_accuracy)\n",
    "print(confusion_m)"
   ]
  },
  {
   "cell_type": "markdown",
   "metadata": {},
   "source": [
    "# Section 2: Data with select composers"
   ]
  },
  {
   "cell_type": "code",
   "execution_count": 150,
   "metadata": {
    "collapsed": true
   },
   "outputs": [],
   "source": [
    "train_data = pd.read_csv(train_file)\n",
    "dev_data = pd.read_csv(dev_file)\n",
    "labels = [\"bach\", \"beethoven\", \"brahms\", \"chopin\", \"debussy\", \"handel\", \"haydn\", \"liszt\", \"mozart\", \"vivaldi\"]"
   ]
  },
  {
   "cell_type": "code",
   "execution_count": 151,
   "metadata": {
    "collapsed": false
   },
   "outputs": [],
   "source": [
    "train_data = train_data[train_data.y != 2] # Brahms\n",
    "train_data = train_data[train_data.y != 4] # Debussy\n",
    "train_data = train_data[train_data.y != 6] # Haydn\n",
    "train_data = train_data[train_data.y != 7] # Liszt\n",
    "train_data = train_data[train_data.y != 9] # Vivaldi\n",
    "\n",
    "dev_data = dev_data[dev_data.y != 2] # Brahms\n",
    "dev_data = dev_data[dev_data.y != 4] # Debussy\n",
    "dev_data = dev_data[dev_data.y != 6] # Haydn\n",
    "dev_data = dev_data[dev_data.y != 7] # Liszt\n",
    "dev_data = dev_data[dev_data.y != 9] # Vivaldi"
   ]
  },
  {
   "cell_type": "code",
   "execution_count": 152,
   "metadata": {
    "collapsed": true
   },
   "outputs": [],
   "source": [
    "train_y = train_data[['y']]\n",
    "train_X = train_data.drop(['y', 'Note_Density_per_Quarter_Note_Variability'], axis=1)\n",
    "dev_y = dev_data[['y']]\n",
    "dev_X = dev_data.drop(['y', 'Note_Density_per_Quarter_Note_Variability'], axis=1)"
   ]
  },
  {
   "cell_type": "markdown",
   "metadata": {},
   "source": [
    "# Composer Experimentation: Softmax"
   ]
  },
  {
   "cell_type": "code",
   "execution_count": 153,
   "metadata": {
    "collapsed": false
   },
   "outputs": [
    {
     "name": "stderr",
     "output_type": "stream",
     "text": [
      "//anaconda/lib/python3.5/site-packages/sklearn/utils/validation.py:526: DataConversionWarning: A column-vector y was passed when a 1d array was expected. Please change the shape of y to (n_samples, ), for example using ravel().\n",
      "  y = column_or_1d(y, warn=True)\n"
     ]
    }
   ],
   "source": [
    "# Softmax\n",
    "clf = LogisticRegression(multi_class='multinomial', solver='lbfgs', penalty='l2').fit(train_X, train_y)"
   ]
  },
  {
   "cell_type": "code",
   "execution_count": 154,
   "metadata": {
    "collapsed": false
   },
   "outputs": [
    {
     "name": "stdout",
     "output_type": "stream",
     "text": [
      "0.8962158111652304\n",
      "[[826  25   1   0   0]\n",
      " [ 37 376  21  22   0]\n",
      " [  0  34 141  36   0]\n",
      " [  0   4  14 329  70]\n",
      " [  0   0   3  10 720]]\n"
     ]
    }
   ],
   "source": [
    "# Training data\n",
    "y_pred = clf.predict(train_X)\n",
    "confusion_m = confusion_matrix(train_y, y_pred, labels=[0, 1, 3, 5, 8])\n",
    "training_accuracy = clf.score(train_X, train_y)\n",
    "print(training_accuracy)\n",
    "print(confusion_m)"
   ]
  },
  {
   "cell_type": "code",
   "execution_count": 155,
   "metadata": {
    "collapsed": false
   },
   "outputs": [
    {
     "name": "stdout",
     "output_type": "stream",
     "text": [
      "0.871331828442438\n",
      "[[284   6   0   1   0]\n",
      " [ 17 127  10   8   0]\n",
      " [  0  15  34   9   0]\n",
      " [  0   2   6  70  33]\n",
      " [  0   0   0   7 257]]\n"
     ]
    }
   ],
   "source": [
    "# Dev data\n",
    "y_pred = clf.predict(dev_X)\n",
    "confusion_m = confusion_matrix(dev_y, y_pred, labels=[0, 1, 3, 5, 8])\n",
    "dev_accuracy = clf.score(dev_X, dev_y)\n",
    "print(dev_accuracy)\n",
    "print(confusion_m)"
   ]
  },
  {
   "cell_type": "markdown",
   "metadata": {},
   "source": [
    "# Composer Experimentation: SVM, C=1"
   ]
  },
  {
   "cell_type": "code",
   "execution_count": 156,
   "metadata": {
    "collapsed": false
   },
   "outputs": [
    {
     "name": "stderr",
     "output_type": "stream",
     "text": [
      "//anaconda/lib/python3.5/site-packages/sklearn/utils/validation.py:526: DataConversionWarning: A column-vector y was passed when a 1d array was expected. Please change the shape of y to (n_samples, ), for example using ravel().\n",
      "  y = column_or_1d(y, warn=True)\n"
     ]
    },
    {
     "data": {
      "text/plain": [
       "SVC(C=1, cache_size=200, class_weight=None, coef0=0.0,\n",
       "  decision_function_shape=None, degree=3, gamma='auto', kernel='rbf',\n",
       "  max_iter=-1, probability=False, random_state=None, shrinking=True,\n",
       "  tol=0.001, verbose=False)"
      ]
     },
     "execution_count": 156,
     "metadata": {},
     "output_type": "execute_result"
    }
   ],
   "source": [
    "clf = SVC(gamma = 'auto', kernel='rbf', C=1)\n",
    "clf.fit(train_X, train_y)"
   ]
  },
  {
   "cell_type": "code",
   "execution_count": 157,
   "metadata": {
    "collapsed": false
   },
   "outputs": [
    {
     "name": "stdout",
     "output_type": "stream",
     "text": [
      "1.0\n",
      "[[852   0   0   0   0]\n",
      " [  0 456   0   0   0]\n",
      " [  0   0 211   0   0]\n",
      " [  0   0   0 417   0]\n",
      " [  0   0   0   0 733]]\n"
     ]
    }
   ],
   "source": [
    "# Training data\n",
    "y_pred = clf.predict(train_X)\n",
    "confusion_m = confusion_matrix(train_y, y_pred, labels=[0, 1, 3, 5, 8])\n",
    "training_accuracy = clf.score(train_X, train_y)\n",
    "print(training_accuracy)\n",
    "print(confusion_m)"
   ]
  },
  {
   "cell_type": "code",
   "execution_count": 158,
   "metadata": {
    "collapsed": false
   },
   "outputs": [
    {
     "name": "stdout",
     "output_type": "stream",
     "text": [
      "0.3329571106094808\n",
      "[[291   0   0   0   0]\n",
      " [162   0   0   0   0]\n",
      " [ 58   0   0   0   0]\n",
      " [111   0   0   0   0]\n",
      " [260   0   0   0   4]]\n"
     ]
    }
   ],
   "source": [
    "# Dev data\n",
    "y_pred = clf.predict(dev_X)\n",
    "confusion_m = confusion_matrix(dev_y, y_pred, labels=[0, 1, 3, 5, 8])\n",
    "dev_accuracy = clf.score(dev_X, dev_y)\n",
    "print(dev_accuracy)\n",
    "print(confusion_m)"
   ]
  },
  {
   "cell_type": "markdown",
   "metadata": {},
   "source": [
    "# Composer Experimentation: SVM, Kernel = Linear"
   ]
  },
  {
   "cell_type": "code",
   "execution_count": 159,
   "metadata": {
    "collapsed": false
   },
   "outputs": [
    {
     "name": "stderr",
     "output_type": "stream",
     "text": [
      "//anaconda/lib/python3.5/site-packages/sklearn/utils/validation.py:526: DataConversionWarning: A column-vector y was passed when a 1d array was expected. Please change the shape of y to (n_samples, ), for example using ravel().\n",
      "  y = column_or_1d(y, warn=True)\n"
     ]
    },
    {
     "data": {
      "text/plain": [
       "SVC(C=1, cache_size=200, class_weight=None, coef0=0.0,\n",
       "  decision_function_shape=None, degree=3, gamma='auto', kernel='linear',\n",
       "  max_iter=-1, probability=False, random_state=None, shrinking=True,\n",
       "  tol=0.001, verbose=False)"
      ]
     },
     "execution_count": 159,
     "metadata": {},
     "output_type": "execute_result"
    }
   ],
   "source": [
    "clf = SVC(gamma = 'auto', kernel='linear', C=1)\n",
    "clf.fit(train_X, train_y)"
   ]
  },
  {
   "cell_type": "code",
   "execution_count": 160,
   "metadata": {
    "collapsed": false
   },
   "outputs": [
    {
     "name": "stdout",
     "output_type": "stream",
     "text": [
      "1.0\n",
      "[[852   0   0   0   0]\n",
      " [  0 456   0   0   0]\n",
      " [  0   0 211   0   0]\n",
      " [  0   0   0 417   0]\n",
      " [  0   0   0   0 733]]\n"
     ]
    }
   ],
   "source": [
    "# Training data\n",
    "y_pred = clf.predict(train_X)\n",
    "confusion_m = confusion_matrix(train_y, y_pred, labels=[0, 1, 3, 5, 8])\n",
    "training_accuracy = clf.score(train_X, train_y)\n",
    "print(training_accuracy)\n",
    "print(confusion_m)"
   ]
  },
  {
   "cell_type": "code",
   "execution_count": 161,
   "metadata": {
    "collapsed": false
   },
   "outputs": [
    {
     "name": "stdout",
     "output_type": "stream",
     "text": [
      "1.0\n",
      "[[291   0   0   0   0]\n",
      " [  0 162   0   0   0]\n",
      " [  0   0  58   0   0]\n",
      " [  0   0   0 111   0]\n",
      " [  0   0   0   0 264]]\n"
     ]
    }
   ],
   "source": [
    "# Dev data\n",
    "y_pred = clf.predict(dev_X)\n",
    "confusion_m = confusion_matrix(dev_y, y_pred, labels=[0, 1, 3, 5, 8])\n",
    "dev_accuracy = clf.score(dev_X, dev_y)\n",
    "print(dev_accuracy)\n",
    "print(confusion_m)"
   ]
  }
 ],
 "metadata": {
  "anaconda-cloud": {},
  "kernelspec": {
   "display_name": "Python [default]",
   "language": "python",
   "name": "python3"
  },
  "language_info": {
   "codemirror_mode": {
    "name": "ipython",
    "version": 3
   },
   "file_extension": ".py",
   "mimetype": "text/x-python",
   "name": "python",
   "nbconvert_exporter": "python",
   "pygments_lexer": "ipython3",
   "version": "3.5.2"
  }
 },
 "nbformat": 4,
 "nbformat_minor": 1
}
